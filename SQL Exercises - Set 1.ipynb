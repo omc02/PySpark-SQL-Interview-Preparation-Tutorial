{
 "cells": [
  {
   "cell_type": "code",
   "execution_count": 1,
   "metadata": {},
   "outputs": [
    {
     "data": {
      "text/plain": [
       "' Notebook Information '"
      ]
     },
     "execution_count": 1,
     "metadata": {},
     "output_type": "execute_result"
    }
   ],
   "source": [
    "\"\"\" Notebook Information \"\"\"\n",
    "# References: https://github.com/XD-DENG/SQL-exercise ; https://en.wikibooks.org/wiki/SQL_Exercises/The_computer_store\n",
    "# Workbook Title: PySpark SQL Exercises - Set 1"
   ]
  },
  {
   "cell_type": "markdown",
   "metadata": {},
   "source": [
    "### PySpark Setup\n",
    "--------------------------------------------\n",
    "#### Installing relevant libraries; Instantiating a PySpark session; Creating a SparkSession"
   ]
  },
  {
   "cell_type": "code",
   "execution_count": null,
   "metadata": {},
   "outputs": [],
   "source": [
    "\"\"\" Importing libraries \"\"\"\n",
    "import pandas as pd \n",
    "import numpy as np \n",
    "import findspark\n",
    "findspark.init()\n",
    "import pyspark\n",
    "from pyspark import SparkContext \n",
    "from pyspark.sql import SparkSession"
   ]
  },
  {
   "cell_type": "code",
   "execution_count": 3,
   "metadata": {},
   "outputs": [
    {
     "name": "stdout",
     "output_type": "stream",
     "text": [
      "3.0.3\n"
     ]
    }
   ],
   "source": [
    "\"\"\" Instantiate a SparkContext \"\"\"\n",
    "sc = SparkContext.getOrCreate()\n",
    "\n",
    "## Print the Spark version\n",
    "print(sc.version)"
   ]
  },
  {
   "cell_type": "code",
   "execution_count": 4,
   "metadata": {},
   "outputs": [],
   "source": [
    "\"\"\" Creating a SparkSession \"\"\" \n",
    "spark = SparkSession.builder.appName('JoinsTutorial').getOrCreate()"
   ]
  },
  {
   "cell_type": "markdown",
   "metadata": {},
   "source": [
    "### PySpark Dataframes\n",
    "--------------------------------------------\n",
    "#### Creating tables as PySpark dataframes"
   ]
  },
  {
   "cell_type": "code",
   "execution_count": 5,
   "metadata": {},
   "outputs": [],
   "source": [
    "\"\"\" Building the schema \"\"\"\n",
    "# Table 1 - Manufacturers Table \n",
    "data1 = [[1, \"Sony\"],\n",
    "        [2, \"Creative Labs\"], \n",
    "        [3, \"Hewlett-Packard\"],\n",
    "        [4, \"Iomega\"], \n",
    "        [5, \"Fujitsu\"], \n",
    "        [6, \"Winchester\"]]\n",
    "  \n",
    "# specify column names\n",
    "columns = ['Code', 'Name']\n",
    "  \n",
    "# creating a df1 from the lists of data\n",
    "df1 = spark.createDataFrame(data1, columns)\n",
    "\n",
    "# Table 2 - Products Table \n",
    "data2 = [[1, \"Hard drive\", 240, 5],\n",
    "         [2,\"Memory\", 120, 6],\n",
    "         [3,\"ZIP drive\",150,4],\n",
    "         [4,\"Floppy disk\",5,6],\n",
    "         [5,'Monitor',240,1],\n",
    "         [6,'DVD drive',180,2],\n",
    "         [7,'CD drive',90,2],\n",
    "         [8,'Printer',270,3],\n",
    "         [9,'Toner cartridge',66,3],\n",
    "         [10,'DVD burner',180,2]]\n",
    "  \n",
    "# specify column names\n",
    "columns = ['Code', 'Name', 'Price', 'Manufacturer']\n",
    "  \n",
    "# creating a df1 from the lists of data\n",
    "df2 = spark.createDataFrame(data2, columns)"
   ]
  },
  {
   "cell_type": "code",
   "execution_count": 6,
   "metadata": {},
   "outputs": [],
   "source": [
    "\"\"\" Creating Temporary Tables to be used in spark.sql \"\"\"\n",
    "## setting temporary views by creating dataframes\n",
    "# creating a view for df1 named Manufacturers\n",
    "df1.createOrReplaceTempView(\"Manufacturers\")\n",
    "  \n",
    "# creating a view for df2 named Products\n",
    "df2.createOrReplaceTempView(\"Products\")"
   ]
  },
  {
   "cell_type": "code",
   "execution_count": 7,
   "metadata": {},
   "outputs": [
    {
     "name": "stdout",
     "output_type": "stream",
     "text": [
      "root\n",
      " |-- Code: long (nullable = true)\n",
      " |-- Name: string (nullable = true)\n",
      "\n"
     ]
    }
   ],
   "source": [
    "\"\"\" Checking the column types for Table 1 - Manufacturers \"\"\"\n",
    "df1.printSchema()"
   ]
  },
  {
   "cell_type": "code",
   "execution_count": 8,
   "metadata": {},
   "outputs": [
    {
     "name": "stdout",
     "output_type": "stream",
     "text": [
      "root\n",
      " |-- Code: long (nullable = true)\n",
      " |-- Name: string (nullable = true)\n",
      " |-- Price: long (nullable = true)\n",
      " |-- Manufacturer: long (nullable = true)\n",
      "\n"
     ]
    }
   ],
   "source": [
    "\"\"\" Checking the column types for Table 2 - PRoducts \"\"\"\n",
    "df2.printSchema()"
   ]
  },
  {
   "cell_type": "code",
   "execution_count": 9,
   "metadata": {},
   "outputs": [
    {
     "name": "stdout",
     "output_type": "stream",
     "text": [
      "+----+-----------+-----+------------+\n",
      "|Code|Name       |Price|Manufacturer|\n",
      "+----+-----------+-----+------------+\n",
      "|1   |Hard drive |240  |5           |\n",
      "|2   |Memory     |120  |6           |\n",
      "|3   |ZIP drive  |150  |4           |\n",
      "|4   |Floppy disk|5    |6           |\n",
      "|5   |Monitor    |240  |1           |\n",
      "+----+-----------+-----+------------+\n",
      "\n"
     ]
    }
   ],
   "source": [
    "\"\"\" Example - SQL Query \"\"\"\n",
    "\n",
    "query = \"\"\"\n",
    "        SELECT *\n",
    "        FROM Products\n",
    "        LIMIT 5\n",
    "       \"\"\"\n",
    "\n",
    "spark.sql(query).show(truncate=False)"
   ]
  },
  {
   "cell_type": "code",
   "execution_count": 10,
   "metadata": {},
   "outputs": [
    {
     "name": "stdout",
     "output_type": "stream",
     "text": [
      "+----+---------------+\n",
      "|Code|Name           |\n",
      "+----+---------------+\n",
      "|1   |Sony           |\n",
      "|2   |Creative Labs  |\n",
      "|3   |Hewlett-Packard|\n",
      "|4   |Iomega         |\n",
      "|5   |Fujitsu        |\n",
      "+----+---------------+\n",
      "\n"
     ]
    }
   ],
   "source": [
    "\"\"\" Example - SQL Query \"\"\"\n",
    "\n",
    "query = \"\"\"\n",
    "        SELECT *\n",
    "        FROM Manufacturers\n",
    "        LIMIT 5\n",
    "       \"\"\"\n",
    "\n",
    "spark.sql(query).show(truncate=False)"
   ]
  },
  {
   "cell_type": "markdown",
   "metadata": {},
   "source": [
    "### Queries - Set 1\n",
    "--------------------------------------------"
   ]
  },
  {
   "cell_type": "code",
   "execution_count": 11,
   "metadata": {},
   "outputs": [
    {
     "name": "stdout",
     "output_type": "stream",
     "text": [
      "+---------------+\n",
      "|Name           |\n",
      "+---------------+\n",
      "|Hard drive     |\n",
      "|Memory         |\n",
      "|ZIP drive      |\n",
      "|Floppy disk    |\n",
      "|Monitor        |\n",
      "|DVD drive      |\n",
      "|CD drive       |\n",
      "|Printer        |\n",
      "|Toner cartridge|\n",
      "|DVD burner     |\n",
      "+---------------+\n",
      "\n"
     ]
    }
   ],
   "source": [
    "\"\"\" Query 1.1 \"\"\"\n",
    "\n",
    "query = \"\"\"\n",
    "        SELECT Name\n",
    "        FROM Products\n",
    "       \"\"\"\n",
    "\n",
    "spark.sql(query).show(truncate=False)"
   ]
  },
  {
   "cell_type": "code",
   "execution_count": 12,
   "metadata": {},
   "outputs": [
    {
     "name": "stdout",
     "output_type": "stream",
     "text": [
      "+---------------+-----+\n",
      "|Name           |Price|\n",
      "+---------------+-----+\n",
      "|Hard drive     |240  |\n",
      "|Memory         |120  |\n",
      "|ZIP drive      |150  |\n",
      "|Floppy disk    |5    |\n",
      "|Monitor        |240  |\n",
      "|DVD drive      |180  |\n",
      "|CD drive       |90   |\n",
      "|Printer        |270  |\n",
      "|Toner cartridge|66   |\n",
      "|DVD burner     |180  |\n",
      "+---------------+-----+\n",
      "\n"
     ]
    }
   ],
   "source": [
    "\"\"\" Query 1.2 \"\"\"\n",
    "\n",
    "query = \"\"\"\n",
    "        SELECT Name, Price\n",
    "        FROM Products\n",
    "       \"\"\"\n",
    "\n",
    "spark.sql(query).show(truncate=False)"
   ]
  },
  {
   "cell_type": "code",
   "execution_count": 13,
   "metadata": {},
   "outputs": [
    {
     "name": "stdout",
     "output_type": "stream",
     "text": [
      "+---------------+-----+\n",
      "|Name           |Price|\n",
      "+---------------+-----+\n",
      "|Memory         |120  |\n",
      "|ZIP drive      |150  |\n",
      "|Floppy disk    |5    |\n",
      "|DVD drive      |180  |\n",
      "|CD drive       |90   |\n",
      "|Toner cartridge|66   |\n",
      "|DVD burner     |180  |\n",
      "+---------------+-----+\n",
      "\n"
     ]
    }
   ],
   "source": [
    "\"\"\" Query 1.3 \"\"\"\n",
    "\n",
    "query = \"\"\"\n",
    "        SELECT Name, Price\n",
    "        FROM Products\n",
    "        WHERE Price <= 200\n",
    "       \"\"\"\n",
    "\n",
    "spark.sql(query).show(truncate=False)"
   ]
  },
  {
   "cell_type": "code",
   "execution_count": 14,
   "metadata": {},
   "outputs": [
    {
     "name": "stdout",
     "output_type": "stream",
     "text": [
      "+---------------+-----+\n",
      "|Name           |Price|\n",
      "+---------------+-----+\n",
      "|Memory         |120  |\n",
      "|CD drive       |90   |\n",
      "|Toner cartridge|66   |\n",
      "+---------------+-----+\n",
      "\n"
     ]
    }
   ],
   "source": [
    "\"\"\" Query 1.4 \"\"\"\n",
    "\n",
    "query = \"\"\"\n",
    "        SELECT Name, Price\n",
    "        FROM Products\n",
    "        WHERE Price BETWEEN 60 AND 120\n",
    "       \"\"\"\n",
    "\n",
    "spark.sql(query).show(truncate=False)"
   ]
  },
  {
   "cell_type": "code",
   "execution_count": 15,
   "metadata": {},
   "outputs": [
    {
     "name": "stdout",
     "output_type": "stream",
     "text": [
      "+---------------+-----------+\n",
      "|Name           |Price_Cents|\n",
      "+---------------+-----------+\n",
      "|Hard drive     |24000      |\n",
      "|Memory         |12000      |\n",
      "|ZIP drive      |15000      |\n",
      "|Floppy disk    |500        |\n",
      "|Monitor        |24000      |\n",
      "|DVD drive      |18000      |\n",
      "|CD drive       |9000       |\n",
      "|Printer        |27000      |\n",
      "|Toner cartridge|6600       |\n",
      "|DVD burner     |18000      |\n",
      "+---------------+-----------+\n",
      "\n"
     ]
    }
   ],
   "source": [
    "\"\"\" Query 1.5 \"\"\"\n",
    "\n",
    "query = \"\"\"\n",
    "        SELECT Name, Price * 100 AS Price_Cents\n",
    "        FROM Products\n",
    "       \"\"\"\n",
    "\n",
    "spark.sql(query).show(truncate=False)"
   ]
  },
  {
   "cell_type": "code",
   "execution_count": 16,
   "metadata": {},
   "outputs": [
    {
     "name": "stdout",
     "output_type": "stream",
     "text": [
      "+-------------+\n",
      "|Average_Price|\n",
      "+-------------+\n",
      "|154.1        |\n",
      "+-------------+\n",
      "\n"
     ]
    }
   ],
   "source": [
    "\"\"\" Query 1.6 \"\"\"\n",
    "\n",
    "query = \"\"\"\n",
    "        SELECT AVG(Price) AS Average_Price\n",
    "        FROM Products\n",
    "       \"\"\"\n",
    "\n",
    "spark.sql(query).show(truncate=False)"
   ]
  },
  {
   "cell_type": "code",
   "execution_count": 17,
   "metadata": {},
   "outputs": [
    {
     "name": "stdout",
     "output_type": "stream",
     "text": [
      "+-------------+\n",
      "|Average_Price|\n",
      "+-------------+\n",
      "|150.0        |\n",
      "+-------------+\n",
      "\n"
     ]
    }
   ],
   "source": [
    "\"\"\" Query 1.7 \"\"\"\n",
    "\n",
    "query = \"\"\"\n",
    "        SELECT AVG(Price) AS Average_Price\n",
    "        FROM Products\n",
    "        WHERE Manufacturer = 2\n",
    "       \"\"\"\n",
    "\n",
    "spark.sql(query).show(truncate=False)"
   ]
  },
  {
   "cell_type": "code",
   "execution_count": 18,
   "metadata": {},
   "outputs": [
    {
     "name": "stdout",
     "output_type": "stream",
     "text": [
      "+------------------+\n",
      "|Number_Of_Products|\n",
      "+------------------+\n",
      "|5                 |\n",
      "+------------------+\n",
      "\n"
     ]
    }
   ],
   "source": [
    "\"\"\" Query 1.8 \"\"\"\n",
    "\n",
    "query = \"\"\"\n",
    "        SELECT COUNT(*) AS Number_Of_Products\n",
    "        FROM Products\n",
    "        WHERE Price >= 180\n",
    "       \"\"\"\n",
    "\n",
    "spark.sql(query).show(truncate=False)"
   ]
  },
  {
   "cell_type": "code",
   "execution_count": 19,
   "metadata": {},
   "outputs": [
    {
     "name": "stdout",
     "output_type": "stream",
     "text": [
      "+----------+-----+\n",
      "|Name      |Price|\n",
      "+----------+-----+\n",
      "|Printer   |270  |\n",
      "|Hard drive|240  |\n",
      "|Monitor   |240  |\n",
      "|DVD burner|180  |\n",
      "|DVD drive |180  |\n",
      "+----------+-----+\n",
      "\n"
     ]
    }
   ],
   "source": [
    "\"\"\" Query 1.9 \"\"\"\n",
    "\n",
    "query = \"\"\"\n",
    "        SELECT Name, Price\n",
    "        FROM Products\n",
    "        WHERE Price >= 180\n",
    "        ORDER BY PRICE DESC, Name ASC\n",
    "       \"\"\"\n",
    "\n",
    "spark.sql(query).show(truncate=False)"
   ]
  },
  {
   "cell_type": "code",
   "execution_count": 20,
   "metadata": {},
   "outputs": [
    {
     "name": "stdout",
     "output_type": "stream",
     "text": [
      "+----+---------------+-----+------------+----+---------------+\n",
      "|Code|Name           |Price|Manufacturer|Code|Name           |\n",
      "+----+---------------+-----+------------+----+---------------+\n",
      "|7   |CD drive       |90   |2           |null|null           |\n",
      "|6   |DVD drive      |180  |2           |6   |Winchester     |\n",
      "|9   |Toner cartridge|66   |3           |null|null           |\n",
      "|5   |Monitor        |240  |1           |5   |Fujitsu        |\n",
      "|1   |Hard drive     |240  |5           |1   |Sony           |\n",
      "|10  |DVD burner     |180  |2           |null|null           |\n",
      "|3   |ZIP drive      |150  |4           |3   |Hewlett-Packard|\n",
      "|8   |Printer        |270  |3           |null|null           |\n",
      "|2   |Memory         |120  |6           |2   |Creative Labs  |\n",
      "|4   |Floppy disk    |5    |6           |4   |Iomega         |\n",
      "+----+---------------+-----+------------+----+---------------+\n",
      "\n"
     ]
    }
   ],
   "source": [
    "\"\"\" Query 1.10 \"\"\"\n",
    "\n",
    "query = \"\"\"\n",
    "        SELECT *\n",
    "        FROM Products AS A\n",
    "        LEFT JOIN Manufacturers AS B ON A.Code = B.Code\n",
    "       \"\"\"\n",
    "\n",
    "spark.sql(query).show(truncate=False)"
   ]
  },
  {
   "cell_type": "code",
   "execution_count": 21,
   "metadata": {},
   "outputs": [
    {
     "name": "stdout",
     "output_type": "stream",
     "text": [
      "+---------------+-----+-----------------+\n",
      "|Name           |Price|Manufacturer_Name|\n",
      "+---------------+-----+-----------------+\n",
      "|CD drive       |90   |null             |\n",
      "|DVD drive      |180  |Winchester       |\n",
      "|Toner cartridge|66   |null             |\n",
      "|Monitor        |240  |Fujitsu          |\n",
      "|Hard drive     |240  |Sony             |\n",
      "|DVD burner     |180  |null             |\n",
      "|ZIP drive      |150  |Hewlett-Packard  |\n",
      "|Printer        |270  |null             |\n",
      "|Memory         |120  |Creative Labs    |\n",
      "|Floppy disk    |5    |Iomega           |\n",
      "+---------------+-----+-----------------+\n",
      "\n"
     ]
    }
   ],
   "source": [
    "\"\"\" Query 1.11 \"\"\"\n",
    "\n",
    "query = \"\"\"\n",
    "        SELECT A.Name, A.Price, B.Name AS Manufacturer_Name\n",
    "        FROM Products AS A\n",
    "        LEFT JOIN Manufacturers AS B ON A.Code = B.Code\n",
    "       \"\"\"\n",
    "\n",
    "spark.sql(query).show(truncate=False)"
   ]
  },
  {
   "cell_type": "code",
   "execution_count": 22,
   "metadata": {},
   "outputs": [
    {
     "name": "stdout",
     "output_type": "stream",
     "text": [
      "+-------------+\n",
      "|Average_Price|\n",
      "+-------------+\n",
      "|62.5         |\n",
      "|240.0        |\n",
      "|240.0        |\n",
      "|168.0        |\n",
      "|150.0        |\n",
      "|150.0        |\n",
      "+-------------+\n",
      "\n"
     ]
    }
   ],
   "source": [
    "\"\"\" Query 1.12 \"\"\"\n",
    "\n",
    "query = \"\"\"\n",
    "        SELECT AVG(Price) AS Average_Price\n",
    "        FROM Products\n",
    "        GROUP BY Manufacturer\n",
    "       \"\"\"\n",
    "\n",
    "spark.sql(query).show(truncate=False)"
   ]
  },
  {
   "cell_type": "code",
   "execution_count": 23,
   "metadata": {},
   "outputs": [
    {
     "name": "stdout",
     "output_type": "stream",
     "text": [
      "+-------------+\n",
      "|Average_Price|\n",
      "+-------------+\n",
      "|62.5         |\n",
      "|240.0        |\n",
      "|240.0        |\n",
      "|168.0        |\n",
      "|150.0        |\n",
      "|150.0        |\n",
      "+-------------+\n",
      "\n"
     ]
    }
   ],
   "source": [
    "\"\"\" Query 1.13 \"\"\"\n",
    "\n",
    "query = \"\"\"\n",
    "        SELECT AVG(Price) AS Average_Price\n",
    "        FROM Products\n",
    "        GROUP BY Manufacturer\n",
    "       \"\"\"\n",
    "\n",
    "spark.sql(query).show(truncate=False)"
   ]
  },
  {
   "cell_type": "code",
   "execution_count": 24,
   "metadata": {},
   "outputs": [
    {
     "name": "stdout",
     "output_type": "stream",
     "text": [
      "+-----------------+-------------+\n",
      "|Manufacturer_Name|Average_Price|\n",
      "+-----------------+-------------+\n",
      "|Sony             |240.0        |\n",
      "|Fujitsu          |240.0        |\n",
      "|null             |151.5        |\n",
      "|Winchester       |180.0        |\n",
      "|Hewlett-Packard  |150.0        |\n",
      "+-----------------+-------------+\n",
      "\n"
     ]
    }
   ],
   "source": [
    "\"\"\" Query 1.14 \"\"\"\n",
    "\n",
    "query = \"\"\"\n",
    "        SELECT B.Name AS Manufacturer_Name, AVG(A.Price) AS Average_Price\n",
    "        FROM Products AS A\n",
    "        LEFT JOIN Manufacturers AS B ON A.Code = B.Code\n",
    "        GROUP BY B.Name \n",
    "        HAVING AVG(A.Price) >= 150\n",
    "       \"\"\"\n",
    "\n",
    "spark.sql(query).show(truncate=False) "
   ]
  },
  {
   "cell_type": "code",
   "execution_count": 25,
   "metadata": {},
   "outputs": [
    {
     "name": "stdout",
     "output_type": "stream",
     "text": [
      "+-----------+-----+\n",
      "|Name       |Price|\n",
      "+-----------+-----+\n",
      "|Floppy disk|5    |\n",
      "+-----------+-----+\n",
      "\n"
     ]
    }
   ],
   "source": [
    "\"\"\" Query 1.15 \"\"\" \n",
    "\n",
    "query = \"\"\"\n",
    "        SELECT Name, Price\n",
    "        FROM Products \n",
    "        ORDER BY Price ASC\n",
    "        LIMIT 1\n",
    "       \"\"\"\n",
    "\n",
    "spark.sql(query).show(truncate=False) "
   ]
  },
  {
   "cell_type": "code",
   "execution_count": 27,
   "metadata": {},
   "outputs": [
    {
     "name": "stdout",
     "output_type": "stream",
     "text": [
      "+-----------------+---------------+---------+\n",
      "|Manufacturer_Name|Product_Name   |Max_Price|\n",
      "+-----------------+---------------+---------+\n",
      "|Iomega           |Floppy disk    |5        |\n",
      "|Creative Labs    |Memory         |120      |\n",
      "|null             |Toner cartridge|66       |\n",
      "|null             |DVD burner     |180      |\n",
      "|Winchester       |DVD drive      |180      |\n",
      "|Hewlett-Packard  |ZIP drive      |150      |\n",
      "|Fujitsu          |Monitor        |240      |\n",
      "|Sony             |Hard drive     |240      |\n",
      "|null             |CD drive       |90       |\n",
      "|null             |Printer        |270      |\n",
      "+-----------------+---------------+---------+\n",
      "\n"
     ]
    }
   ],
   "source": [
    "\"\"\" Query 1.16 \"\"\" ## Check this approach\n",
    "\n",
    "query = \"\"\"\n",
    "        SELECT B.Name AS Manufacturer_Name, A.Name AS Product_Name, MAX(A.Price) AS Max_Price \n",
    "        FROM Products AS A\n",
    "        LEFT JOIN Manufacturers AS B ON A.Code = B.Code\n",
    "        GROUP BY B.Name, A.Name\n",
    "        \"\"\"\n",
    "\n",
    "spark.sql(query).show(truncate=False) \n",
    "\n",
    "### Reference: You can use partitions to divide the dataframe into multiple dataframes after your sort by price of each manufacturer and then you can select the first item of each table to get the maximum price."
   ]
  }
 ],
 "metadata": {
  "interpreter": {
   "hash": "30eeddc3c12a4fe6e24daf4d3e24e3b83fa3f3738ff065e41626afc8719976ce"
  },
  "kernelspec": {
   "display_name": "Python 3.9.10 64-bit (windows store)",
   "language": "python",
   "name": "python3"
  },
  "language_info": {
   "codemirror_mode": {
    "name": "ipython",
    "version": 3
   },
   "file_extension": ".py",
   "mimetype": "text/x-python",
   "name": "python",
   "nbconvert_exporter": "python",
   "pygments_lexer": "ipython3",
   "version": "3.9.12"
  },
  "orig_nbformat": 4
 },
 "nbformat": 4,
 "nbformat_minor": 2
}

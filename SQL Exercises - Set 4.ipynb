{
 "cells": [
  {
   "cell_type": "code",
   "execution_count": 11,
   "metadata": {},
   "outputs": [
    {
     "data": {
      "text/plain": [
       "' Notebook Information '"
      ]
     },
     "execution_count": 11,
     "metadata": {},
     "output_type": "execute_result"
    }
   ],
   "source": [
    "\"\"\" Notebook Information \"\"\"\n",
    "# References: https://github.com/XD-DENG/SQL-exercise \n",
    "# Workbook Title: PySpark SQL Exercises - Set 4"
   ]
  },
  {
   "cell_type": "markdown",
   "metadata": {},
   "source": [
    "### PySpark Setup\n",
    "--------------------------------------------\n",
    "#### Installing relevant libraries; Instantiating a PySpark session; Creating a SparkSession"
   ]
  },
  {
   "cell_type": "code",
   "execution_count": 12,
   "metadata": {},
   "outputs": [],
   "source": [
    "\"\"\" Importing libraries \"\"\"\n",
    "import pandas as pd \n",
    "import numpy as np \n",
    "import findspark\n",
    "findspark.init()\n",
    "import pyspark\n",
    "from pyspark import SparkContext \n",
    "from pyspark.sql import SparkSession"
   ]
  },
  {
   "cell_type": "code",
   "execution_count": 13,
   "metadata": {},
   "outputs": [
    {
     "name": "stdout",
     "output_type": "stream",
     "text": [
      "3.0.3\n"
     ]
    }
   ],
   "source": [
    "\"\"\" Instantiate a SparkContext \"\"\"\n",
    "sc = SparkContext.getOrCreate()\n",
    "\n",
    "## Print the Spark version\n",
    "print(sc.version)"
   ]
  },
  {
   "cell_type": "code",
   "execution_count": 14,
   "metadata": {},
   "outputs": [],
   "source": [
    "\"\"\" Creating a SparkSession \"\"\" \n",
    "spark = SparkSession.builder.appName('JoinsTutorial').getOrCreate()"
   ]
  },
  {
   "cell_type": "markdown",
   "metadata": {},
   "source": [
    "### PySpark Dataframes\n",
    "--------------------------------------------\n",
    "#### Creating tables as PySpark dataframes"
   ]
  },
  {
   "cell_type": "code",
   "execution_count": 15,
   "metadata": {},
   "outputs": [],
   "source": [
    "\"\"\" Building the schema \"\"\"\n",
    "# Table 1 - Movies Table \n",
    "data1 = [[1,'Citizen Kane','PG'],\n",
    "        [2,'Singin'' in the Rain','G'], \n",
    "        [3,'The Wizard of Oz','G'],\n",
    "        [4,'The Quiet Man','PG-13'],\n",
    "        [5,'North by Northwest','PG-13'],\n",
    "        [6,'The Last Tango in Paris','NC-17'],\n",
    "        [7,'Some Like it Hot','PG-13'],\n",
    "        [8,'A Night at the Opera','PG-13']]\n",
    "  \n",
    "# specify column names\n",
    "columns = ['Code', 'Title', 'Rating']\n",
    "  \n",
    "# creating a df1 from the lists of data\n",
    "df1 = spark.createDataFrame(data1, columns)\n",
    "\n",
    "# Table 2 - MoviesTheaters Table \n",
    "data2 = [[1,'Odeon',5],\n",
    "         [2,'Imperial',1],\n",
    "         [3,'Majestic',4],\n",
    "         [4,'Royale',6],\n",
    "         [5,'Paraiso',3],\n",
    "         [6,'Nickelodeon',7]]\n",
    "  \n",
    "# specify column names\n",
    "columns = ['Code', 'Name', 'Movie']\n",
    "  \n",
    "# creating a df1 from the lists of data\n",
    "df2 = spark.createDataFrame(data2, columns)"
   ]
  },
  {
   "cell_type": "code",
   "execution_count": 16,
   "metadata": {},
   "outputs": [],
   "source": [
    "\"\"\" Creating Temporary Tables to be used in spark.sql \"\"\"\n",
    "## setting temporary views by creating dataframes\n",
    "# creating a view for df1 named Manufacturers\n",
    "df1.createOrReplaceTempView(\"Movies\")\n",
    "  \n",
    "# creating a view for df2 named MoviesTheaters\n",
    "df2.createOrReplaceTempView(\"MoviesTheaters\")"
   ]
  },
  {
   "cell_type": "code",
   "execution_count": 17,
   "metadata": {},
   "outputs": [
    {
     "name": "stdout",
     "output_type": "stream",
     "text": [
      "root\n",
      " |-- Code: long (nullable = true)\n",
      " |-- Title: string (nullable = true)\n",
      " |-- Rating: string (nullable = true)\n",
      "\n"
     ]
    }
   ],
   "source": [
    "\"\"\" Checking the column types for Table 1 - Movies \"\"\"\n",
    "df1.printSchema()"
   ]
  },
  {
   "cell_type": "code",
   "execution_count": 18,
   "metadata": {},
   "outputs": [
    {
     "name": "stdout",
     "output_type": "stream",
     "text": [
      "root\n",
      " |-- Code: long (nullable = true)\n",
      " |-- Name: string (nullable = true)\n",
      " |-- Movie: long (nullable = true)\n",
      "\n"
     ]
    }
   ],
   "source": [
    "\"\"\" Checking the column types for Table 2 - MoviesTheaters \"\"\"\n",
    "df2.printSchema()"
   ]
  },
  {
   "cell_type": "markdown",
   "metadata": {},
   "source": [
    "### Queries - Set 4\n",
    "--------------------------------------------"
   ]
  },
  {
   "cell_type": "code",
   "execution_count": 19,
   "metadata": {},
   "outputs": [
    {
     "name": "stdout",
     "output_type": "stream",
     "text": [
      "+----+-----------+-----+\n",
      "|Code|Name       |Movie|\n",
      "+----+-----------+-----+\n",
      "|1   |Odeon      |5    |\n",
      "|2   |Imperial   |1    |\n",
      "|3   |Majestic   |4    |\n",
      "|4   |Royale     |6    |\n",
      "|5   |Paraiso    |3    |\n",
      "|6   |Nickelodeon|7    |\n",
      "+----+-----------+-----+\n",
      "\n"
     ]
    }
   ],
   "source": [
    "\"\"\" Checking the Movies table \"\"\"\n",
    "\n",
    "# -- Select all warehouses.\n",
    "\n",
    "query = \"\"\"\n",
    "        SELECT *\n",
    "        FROM MoviesTheaters\n",
    "        LIMIT 5\n",
    "       \"\"\"\n",
    "\n",
    "spark.sql(query).show(truncate=False)"
   ]
  },
  {
   "cell_type": "code",
   "execution_count": 20,
   "metadata": {},
   "outputs": [
    {
     "name": "stdout",
     "output_type": "stream",
     "text": [
      "+----+--------+-----+\n",
      "|Code|Name    |Movie|\n",
      "+----+--------+-----+\n",
      "|1   |Odeon   |5    |\n",
      "|2   |Imperial|1    |\n",
      "|3   |Majestic|4    |\n",
      "|4   |Royale  |6    |\n",
      "|5   |Paraiso |3    |\n",
      "+----+--------+-----+\n",
      "\n"
     ]
    }
   ],
   "source": [
    "\"\"\" Checking the MoviesTheaters table \"\"\"\n",
    "\n",
    "# -- Select all MoviesTheaters.\n",
    "\n",
    "query = \"\"\"\n",
    "        SELECT *\n",
    "        FROM MoviesTheaters\n",
    "        LIMIT 5\n",
    "       \"\"\"\n",
    "\n",
    "spark.sql(query).show(truncate=False)"
   ]
  },
  {
   "cell_type": "code",
   "execution_count": 21,
   "metadata": {},
   "outputs": [
    {
     "name": "stdout",
     "output_type": "stream",
     "text": [
      "+----+------------------+------+\n",
      "|Code|Title             |Rating|\n",
      "+----+------------------+------+\n",
      "|1   |Citizen Kane      |PG    |\n",
      "|2   |Singin in the Rain|G     |\n",
      "|3   |The Wizard of Oz  |G     |\n",
      "|4   |The Quiet Man     |PG-13 |\n",
      "|5   |North by Northwest|PG-13 |\n",
      "+----+------------------+------+\n",
      "\n"
     ]
    }
   ],
   "source": [
    "\"\"\" Query 4.1 \"\"\"\n",
    "\n",
    "# -- Select the title of all movies.\n",
    "\n",
    "query = \"\"\"\n",
    "        SELECT *\n",
    "        FROM Movies\n",
    "       \"\"\"\n",
    "\n",
    "spark.sql(query).show(truncate=False)\n"
   ]
  },
  {
   "cell_type": "code",
   "execution_count": 22,
   "metadata": {},
   "outputs": [
    {
     "name": "stdout",
     "output_type": "stream",
     "text": [
      "+------+\n",
      "|Rating|\n",
      "+------+\n",
      "|PG    |\n",
      "|NC-17 |\n",
      "|G     |\n",
      "|PG-13 |\n",
      "+------+\n",
      "\n"
     ]
    }
   ],
   "source": [
    "\"\"\" Query 4.2 \"\"\"\n",
    "\n",
    "# -- Show all the distinct ratings in the database.\n",
    "\n",
    "query = \"\"\"\n",
    "        SELECT DISTINCT Rating\n",
    "        FROM Movies\n",
    "       \"\"\"\n",
    "\n",
    "spark.sql(query).show(truncate=False)\n"
   ]
  },
  {
   "cell_type": "code",
   "execution_count": 25,
   "metadata": {},
   "outputs": [
    {
     "name": "stdout",
     "output_type": "stream",
     "text": [
      "+--------------+\n",
      "|Unrated_Movies|\n",
      "+--------------+\n",
      "|0             |\n",
      "+--------------+\n",
      "\n"
     ]
    }
   ],
   "source": [
    "\"\"\" Query 4.3 \"\"\"\n",
    "\n",
    "# -- Show all unrated movies.\n",
    "\n",
    "query = \"\"\"\n",
    "        SELECT COUNT(Code) AS Unrated_Movies\n",
    "        FROM Movies\n",
    "        WHERE Rating IS NULL\n",
    "       \"\"\"\n",
    "\n",
    "spark.sql(query).show(truncate=False)\n",
    "\n"
   ]
  },
  {
   "cell_type": "code",
   "execution_count": 29,
   "metadata": {},
   "outputs": [
    {
     "name": "stdout",
     "output_type": "stream",
     "text": [
      "+----+----+-----+----+-----+------+\n",
      "|Code|Name|Movie|Code|Title|Rating|\n",
      "+----+----+-----+----+-----+------+\n",
      "+----+----+-----+----+-----+------+\n",
      "\n"
     ]
    }
   ],
   "source": [
    "\"\"\" Query 4.4 \"\"\"\n",
    "\n",
    "# -- Select all movie theaters that are not currently showing a movie.\n",
    "\n",
    "query = \"\"\"\n",
    "        SELECT *\n",
    "        FROM MoviesTheaters AS A LEFT JOIN Movies AS B ON A.Movie = B.Code\n",
    "        WHERE Title IS NULL\n",
    "       \"\"\"\n",
    "\n",
    "spark.sql(query).show(truncate=False)"
   ]
  },
  {
   "cell_type": "code",
   "execution_count": 32,
   "metadata": {},
   "outputs": [
    {
     "name": "stdout",
     "output_type": "stream",
     "text": [
      "+----+------------+-----+-----------------------+------+\n",
      "|Code|Theater_name|Movie|Movie_title            |Rating|\n",
      "+----+------------+-----+-----------------------+------+\n",
      "|6   |Nickelodeon |7    |Some Like it Hot       |PG-13 |\n",
      "|4   |Royale      |6    |The Last Tango in Paris|NC-17 |\n",
      "|1   |Odeon       |5    |North by Northwest     |PG-13 |\n",
      "|2   |Imperial    |1    |Citizen Kane           |PG    |\n",
      "|5   |Paraiso     |3    |The Wizard of Oz       |G     |\n",
      "|null|null        |null |A Night at the Opera   |PG-13 |\n",
      "|null|null        |null |Singin in the Rain     |G     |\n",
      "|3   |Majestic    |4    |The Quiet Man          |PG-13 |\n",
      "+----+------------+-----+-----------------------+------+\n",
      "\n"
     ]
    }
   ],
   "source": [
    "\"\"\" Query 4.5 \"\"\"\n",
    "\n",
    "# -- Select all data from all movie theaters and, additionally, the data from the movie that is being shown in the theater (if one is being shown).\n",
    "\n",
    "query = \"\"\"\n",
    "        SELECT A.Code, A.Name AS Theater_name, A.Movie, B.Title AS Movie_title, B.Rating\n",
    "        FROM MoviesTheaters AS A LEFT JOIN Movies AS B ON A.Movie = B.Code\n",
    "       \"\"\"\n",
    "\n",
    "spark.sql(query).show(truncate=False)"
   ]
  },
  {
   "cell_type": "code",
   "execution_count": 38,
   "metadata": {},
   "outputs": [
    {
     "name": "stdout",
     "output_type": "stream",
     "text": [
      "+----+------------+-----+-----------------------+------+\n",
      "|Code|Theater_name|Movie|Movie_title            |Rating|\n",
      "+----+------------+-----+-----------------------+------+\n",
      "|6   |Nickelodeon |7    |Some Like it Hot       |PG-13 |\n",
      "|4   |Royale      |6    |The Last Tango in Paris|NC-17 |\n",
      "|1   |Odeon       |5    |North by Northwest     |PG-13 |\n",
      "|2   |Imperial    |1    |Citizen Kane           |PG    |\n",
      "|5   |Paraiso     |3    |The Wizard of Oz       |G     |\n",
      "|null|null        |null |A Night at the Opera   |PG-13 |\n",
      "|null|null        |null |Singin in the Rain     |G     |\n",
      "|3   |Majestic    |4    |The Quiet Man          |PG-13 |\n",
      "+----+------------+-----+-----------------------+------+\n",
      "\n"
     ]
    }
   ],
   "source": [
    "\"\"\" Query 4.6 \"\"\"\n",
    "\n",
    "# -- Select all data from all movies and, if that movie is being shown in a theater, show the data from the theater.\n",
    "\n",
    "query = \"\"\"\n",
    "        SELECT A.Code, A.Name AS Theater_name, A.Movie, B.Title AS Movie_title, B.Rating\n",
    "        FROM MoviesTheaters AS A RIGHT JOIN Movies AS B ON A.Movie = B.Code\n",
    "       \"\"\"\n",
    "\n",
    "spark.sql(query).show(truncate=False)\n",
    "\n",
    "# Note: You can also perform a left join if the Movies table is positioned on the left and MoviesTheaters is positioned on the right "
   ]
  },
  {
   "cell_type": "code",
   "execution_count": 37,
   "metadata": {},
   "outputs": [
    {
     "name": "stdout",
     "output_type": "stream",
     "text": [
      "+--------------------+\n",
      "|Title               |\n",
      "+--------------------+\n",
      "|A Night at the Opera|\n",
      "|Singin in the Rain  |\n",
      "+--------------------+\n",
      "\n"
     ]
    }
   ],
   "source": [
    "\"\"\" Query 4.7 - Join Approach \"\"\"\n",
    "\n",
    "# -- Show the titles of movies not currently being shown in any theaters.\n",
    "\n",
    "query = \"\"\"\n",
    "        SELECT A.Title\n",
    "        FROM Movies AS A LEFT JOIN MoviesTheaters AS B ON A.Code = B.Movie\n",
    "        WHERE B.Code IS NULL\n",
    "       \"\"\"\n",
    "\n",
    "spark.sql(query).show(truncate=False)\n"
   ]
  },
  {
   "cell_type": "code",
   "execution_count": 47,
   "metadata": {},
   "outputs": [
    {
     "name": "stdout",
     "output_type": "stream",
     "text": [
      "+--------------------+\n",
      "|Title               |\n",
      "+--------------------+\n",
      "|Singin in the Rain  |\n",
      "|A Night at the Opera|\n",
      "+--------------------+\n",
      "\n"
     ]
    }
   ],
   "source": [
    "\"\"\" Query 4.7 - Subquery Approach \"\"\"\n",
    "\n",
    "# -- Show the titles of movies not currently being shown in any theaters.\n",
    "\n",
    "query = \"\"\"\n",
    "        SELECT Title\n",
    "        FROM Movies \n",
    "        WHERE Code NOT IN (SELECT Movie\n",
    "                           FROM MoviesTheaters\n",
    "                           WHERE Movie IS NOT NULL)\n",
    "       \"\"\"\n",
    "\n",
    "spark.sql(query).show(truncate=False)\n"
   ]
  }
 ],
 "metadata": {
  "interpreter": {
   "hash": "f7e022b67859ae4a791bbcc1c75bde8b3a5bef3b9abb0060fdb4399d638fb2f6"
  },
  "kernelspec": {
   "display_name": "Python 3.9.12 64-bit",
   "language": "python",
   "name": "python3"
  },
  "language_info": {
   "codemirror_mode": {
    "name": "ipython",
    "version": 3
   },
   "file_extension": ".py",
   "mimetype": "text/x-python",
   "name": "python",
   "nbconvert_exporter": "python",
   "pygments_lexer": "ipython3",
   "version": "3.9.12"
  },
  "orig_nbformat": 4
 },
 "nbformat": 4,
 "nbformat_minor": 2
}
